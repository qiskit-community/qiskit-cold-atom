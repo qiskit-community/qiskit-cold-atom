{
 "cells": [
  {
   "cell_type": "markdown",
   "metadata": {},
   "source": [
    "# Spin-charge separation for fermions"
   ]
  },
  {
   "cell_type": "markdown",
   "metadata": {},
   "source": [
    "In this notebook we take a look at the separation of spin and charge dynamics for fermionic atoms in a 1D system. It is based on the paper by \"Time-Resolved Observation of Spin-Charge Deconfinement in Fermionic Hubbard\n",
    "Chains\" the Munich group [[1]](#References).  In these experiments, fermions evolve in a one dimensional optical lattice. The experiment allows for site resolved observation of spin and charge, such that the famous spin charge separation is directly observable. It is therefore a very pedagogical example for microscopic observables in an extended system.\n",
    "\n",
    "Here, the physical dynamics of the 1-D tweezer array are governed by a Fermi-Hubbard Hamiltonian in second quantization: \n",
    "\n",
    "$$ \n",
    " H_{\\text{FH}}(\\boldsymbol{J},U,\\boldsymbol{\\mu}) =  -J \\underbrace{\\sum_{i=1,\\sigma}^{L-1} (f^\\dagger_{i,\\sigma} f_{i+1,\\sigma} + f^\\dagger_{i+1,\\sigma} f_{i,\\sigma} )}_{\\text{Tunneling/Hopping}} + \\underbrace{U \\sum_{i=1}^{L}  n_{i,\\uparrow}n_{i,\\downarrow}}_{\\text{interaction}} + \\underbrace{\\sum_{i=1,\\sigma}^{L} \\mu_i n_{i,\\sigma}}_{\\text{potential offset}} \n",
    "$$\n",
    "\n",
    "Here, $f_{i,\\sigma}, f^\\dagger_{i,\\sigma}$ are annihilation/creation operators for atoms in tweezers at site $i$ with spin $\\sigma$ and $n_{i,\\sigma} = f^\\dagger_{i,\\sigma} f_{i,\\sigma}$ is the number operator.  \n",
    "\n",
    "The dynamics depend on the parameters $\\{ \\boldsymbol{J}, U, \\boldsymbol{\\mu} \\}$ that determine the strength of the different contributions:\n",
    "\n",
    "- The first term describes hopping between the site $i$ and its neighboring site $i+1$ (for both spin species) through the tunnel effect. The parameter $J$ determines the strength of this hopping and can be tuned by adjusting the depth of the optical lattice.\n",
    "    \n",
    "- The second term describes an interaction between two atoms when they occupy the same site. It is controlled globally by the parameter $U$ set by an external magnetic field exploiting a Feshbach resonance.\n",
    "\n",
    "- The third term describes local offsets in the potential which can locally imprint a phase by tuning $\\mu_i$. Throughout this tutorial we will set $\\mu_i = 0$ for all sites $i$."
   ]
  },
  {
   "cell_type": "code",
   "execution_count": 1,
   "metadata": {},
   "outputs": [],
   "source": [
    "import numpy as np\n",
    "import matplotlib.pyplot as plt\n",
    "import time"
   ]
  },
  {
   "cell_type": "markdown",
   "metadata": {},
   "source": [
    "## Initial state preparation\n",
    "\n",
    "As described in the paper, the initial state is a system of alternating spin-up and spin-down fermions in the lattice. To initialize the system only the site in the middle is left empty."
   ]
  },
  {
   "cell_type": "code",
   "execution_count": 2,
   "metadata": {},
   "outputs": [],
   "source": [
    "from qiskit_cold_atom.fermions import FermionSimulator, FfsimBackend\n",
    "\n",
    "from qiskit_cold_atom.fermions.fermion_gate_library import FermiHubbard\n",
    "from qiskit_nature.operators.second_quantization import FermionicOp\n",
    "from qiskit.circuit import Parameter\n",
    "\n",
    "backend = FermionSimulator()\n",
    "backend_ffsim = FfsimBackend()"
   ]
  },
  {
   "cell_type": "markdown",
   "metadata": {},
   "source": [
    "We will attempt to obverve propagations of up to `d` sites. Let us initialize a system with `2d+1` sites. And in the middle of the lattice we will leave one site empty."
   ]
  },
  {
   "cell_type": "code",
   "execution_count": 3,
   "metadata": {},
   "outputs": [],
   "source": [
    "def prep_init_states(dmax: int, with_hole: bool) -> tuple[list, list]:\n",
    "    \"\"\"\n",
    "    Prepares a list of initial states for the Fermi-Hubbard model.\n",
    "\n",
    "    Args:\n",
    "        dmax: the maximum distance from the center\n",
    "        with_hole: whether to include a hole in the initial state\n",
    "\n",
    "    Returns:\n",
    "        two lists of initial states starting with spin-up and spin-down, respectively\n",
    "    \"\"\"\n",
    "    Nsites = 2 * dmax + 1\n",
    "\n",
    "    # the up state\n",
    "    state_up = [i % 2 for i in range(Nsites)]\n",
    "    state_down = [(i + 1) % 2 for i in range(Nsites)]\n",
    "\n",
    "    if with_hole:\n",
    "        state_up[dmax] = 0\n",
    "        state_down[dmax] = 0\n",
    "\n",
    "    init_state_1 = [state_up, state_down]\n",
    "    init_state_2 = [state_down, state_up]\n",
    "\n",
    "    return init_state_1, init_state_2"
   ]
  },
  {
   "cell_type": "code",
   "execution_count": 4,
   "metadata": {},
   "outputs": [],
   "source": [
    "dmax = 3\n",
    "Nsites = 2 * dmax + 1\n",
    "\n",
    "init_state_1, init_state_2 = prep_init_states(dmax, with_hole=True)"
   ]
  },
  {
   "cell_type": "code",
   "execution_count": 6,
   "metadata": {},
   "outputs": [],
   "source": [
    "hop_param = Parameter(\"hop_param\")\n",
    "int_param = Parameter(\"int_param\")\n",
    "# initialize one spin-up and one spin-down atom in the left tweezer\n",
    "qc_1 = backend.initialize_circuit(init_state_1)\n",
    "\n",
    "# apply a global Fermi-Hubbard gate with interaction\n",
    "qc_1.fhubbard(j=hop_param * np.ones(Nsites - 1), u=int_param, mu=np.zeros(Nsites), modes=range(2*Nsites))\n",
    "qc_1.measure_all()\n",
    "\n",
    "# qc_1.draw(output=\"mpl\")"
   ]
  },
  {
   "cell_type": "markdown",
   "metadata": {},
   "source": [
    "However, this is not the only configuration that exists. Actually the total spin is on average zero. The only thing that is known is that we start out with an anti-ferromagnetic configuration."
   ]
  },
  {
   "cell_type": "code",
   "execution_count": 7,
   "metadata": {},
   "outputs": [],
   "source": [
    "hop_param_down = Parameter(\"hop_param\")\n",
    "int_param_down = Parameter(\"int_param\")\n",
    "\n",
    "# initialize one spin-up and one spin-down atom in the left tweezer\n",
    "qc_2 = backend.initialize_circuit(init_state_2)\n",
    "\n",
    "# apply a global Fermi-Hubbard gate with interaction\n",
    "qc_2.fhubbard(\n",
    "    j=hop_param_down * np.ones(Nsites - 1),\n",
    "    u=int_param_down,\n",
    "    mu=np.zeros(Nsites),\n",
    "    modes=range(2 * Nsites),\n",
    ")\n",
    "qc_2.measure_all()"
   ]
  },
  {
   "cell_type": "code",
   "execution_count": 8,
   "metadata": {},
   "outputs": [],
   "source": [
    "circuit_up_init = qc_1.bind_parameters({hop_param: 0, int_param: 0})\n",
    "job_up_init = backend.run(circuit_up_init, shots=5, num_species=2)\n",
    "\n",
    "circuit_down_init = qc_2.bind_parameters({hop_param_down: 0, int_param_down: 0})\n",
    "job_down_init = backend.run(circuit_down_init, shots=5, num_species=2)"
   ]
  },
  {
   "cell_type": "markdown",
   "metadata": {},
   "source": [
    "Now let us plot up the density and charge density of the different states."
   ]
  },
  {
   "cell_type": "code",
   "execution_count": 9,
   "metadata": {},
   "outputs": [],
   "source": [
    "def nocc_from_counts(counts: dict[str, int], Nsites: int) -> np.ndarray:\n",
    "    \"\"\"\n",
    "    The calculates the occupation from all observed configurations.\n",
    "\n",
    "    Args:\n",
    "        counts: the counts of the observed configurations\n",
    "        Nsites: the number of sites in the system\n",
    "\n",
    "    Returns:\n",
    "        1D array The occupation for each site\n",
    "    \"\"\"\n",
    "    nocc_t = np.zeros(Nsites)\n",
    "    Nobs = 0\n",
    "    for occ_string, observations in counts.items():\n",
    "        # get the occupation of each site in the observed configuration\n",
    "        nocc = np.zeros(Nsites)\n",
    "\n",
    "        for site_index in range(Nsites):\n",
    "            nocc[site_index] = int(occ_string[site_index]) + int(occ_string[site_index + Nsites])\n",
    "\n",
    "        # now add the value to the correct time step and with it by the number of observations\n",
    "        Nobs = Nobs + observations\n",
    "        nocc_t = nocc_t + nocc * observations\n",
    "    return nocc_t / Nobs\n",
    "\n",
    "\n",
    "def squeezed_spin_corr_from_counts(counts: dict[str, int], Nsites: int) -> np.ndarray:\n",
    "    \"\"\"\n",
    "    The calculates the spin projection from all observed configurations.\n",
    "    However, we filter out situations with a hole and a doublon in the system.\n",
    "\n",
    "    Args:\n",
    "        counts: the counts of the observed configurations\n",
    "        Nsites: the number of sites in the system\n",
    "\n",
    "    Returns:\n",
    "        1D array The occupation for each site\n",
    "    \"\"\"\n",
    "    sz_squeeze = np.zeros(Nsites)\n",
    "    szvar = np.zeros(Nsites)\n",
    "    Nobs = 0\n",
    "    Nobs_var = np.zeros(Nsites)\n",
    "    Nobs = np.zeros(Nsites)\n",
    "\n",
    "    for occ_string, observations in counts.items():\n",
    "        occ_int = [int(occ) for occ in occ_string]\n",
    "        # get the spin of each site in the observed configuration\n",
    "        sz = np.zeros(Nsites)\n",
    "        nocc = np.zeros(Nsites)\n",
    "        for site_index in range(Nsites):\n",
    "            sz[site_index] = 1 / 2 * (occ_int[site_index] - occ_int[site_index + Nsites])\n",
    "            nocc[site_index] = occ_int[site_index] + occ_int[site_index + Nsites]\n",
    "\n",
    "        # now obtain the symmetrized variance\n",
    "        # first for the first site\n",
    "        site_index = 0\n",
    "        if nocc[site_index] == 1 and nocc[site_index + 1] == 1:\n",
    "                    szvar[site_index] = (\n",
    "                        szvar[site_index] + sz[site_index] * sz[site_index + 1] * observations\n",
    "                    )\n",
    "                    Nobs_var[site_index] = Nobs_var[site_index] + observations\n",
    "        \n",
    "        # then for the last site\n",
    "        site_index = Nsites - 1\n",
    "        if nocc[site_index] == 1 and nocc[site_index - 1] == 1:\n",
    "                    szvar[site_index] = (\n",
    "                        szvar[site_index] + sz[site_index] * sz[site_index - 1] * observations\n",
    "                    )\n",
    "                    Nobs_var[site_index] = Nobs_var[site_index] + observations\n",
    "        \n",
    "        # and finally for all the other sites\n",
    "        for site_index in range(1,Nsites-1):\n",
    "            if (\n",
    "                    nocc[site_index] == 1\n",
    "                    and nocc[site_index + 1] == 1\n",
    "                    and nocc[site_index - 1] == 1\n",
    "                ):\n",
    "                    szvar[site_index] = (\n",
    "                        szvar[site_index]\n",
    "                        + 1\n",
    "                        / 2\n",
    "                        * sz[site_index]\n",
    "                        * (sz[site_index + 1] + sz[site_index - 1])\n",
    "                        * observations\n",
    "                    )\n",
    "                    Nobs_var[site_index] = Nobs_var[site_index] + observations\n",
    "            elif (\n",
    "                    nocc[site_index] == 1\n",
    "                    and nocc[site_index + 1] == 1\n",
    "                    and nocc[site_index - 1] == 0\n",
    "                ):\n",
    "                    szvar[site_index] = (\n",
    "                        szvar[site_index] + sz[site_index] * sz[site_index + 1] * observations\n",
    "                    )\n",
    "                    Nobs_var[site_index] = Nobs_var[site_index] + observations\n",
    "            elif (\n",
    "                    nocc[site_index] == 1\n",
    "                    and nocc[site_index + 1] == 0\n",
    "                    and nocc[site_index - 1] == 1\n",
    "                ):\n",
    "                    szvar[site_index] = (\n",
    "                        szvar[site_index] + sz[site_index] * sz[site_index - 1] * observations\n",
    "                    )\n",
    "                    Nobs_var[site_index] = Nobs_var[site_index] + observations\n",
    "\n",
    "        sz_squeeze += sz * (nocc == 1) * observations\n",
    "        Nobs += (nocc == 1) * observations\n",
    "\n",
    "    # regularize the observations\n",
    "    var_weight = 1 / Nobs_var\n",
    "    var_weight[np.isinf(var_weight)] = 0\n",
    "\n",
    "    mean_weight = 1 / Nobs\n",
    "    mean_weight[np.isinf(mean_weight)] = 0\n",
    "    # now that we have gone through all observations, we can average\n",
    "    fluc = np.zeros(Nsites)\n",
    "    for site_index in range(Nsites):\n",
    "        if site_index == 0:\n",
    "            fluc[site_index] = 4 * (\n",
    "                szvar[site_index] * var_weight[site_index]\n",
    "                - sz_squeeze[site_index]\n",
    "                * mean_weight[site_index]\n",
    "                * sz_squeeze[site_index + 1]\n",
    "                * mean_weight[site_index + 1]\n",
    "            )\n",
    "        elif site_index == Nsites - 1:\n",
    "            fluc[site_index] = 4 * (\n",
    "                szvar[site_index] * var_weight[site_index]\n",
    "                - sz_squeeze[site_index]\n",
    "                * mean_weight[site_index]\n",
    "                * sz_squeeze[site_index - 1]\n",
    "                * mean_weight[site_index - 1]\n",
    "            )\n",
    "        else:\n",
    "            fluc[site_index] = 4 * (\n",
    "                szvar[site_index] * var_weight[site_index]\n",
    "                - sz_squeeze[site_index]\n",
    "                * mean_weight[site_index]\n",
    "                * (\n",
    "                    sz_squeeze[site_index + 1] * mean_weight[site_index + 1]\n",
    "                    + sz_squeeze[site_index - 1] * mean_weight[site_index - 1]\n",
    "                )\n",
    "                / 2\n",
    "            )\n",
    "    return fluc, Nobs_var, Nobs"
   ]
  },
  {
   "cell_type": "markdown",
   "metadata": {},
   "source": [
    "Let us just visualize the initial state:"
   ]
  },
  {
   "cell_type": "code",
   "execution_count": 10,
   "metadata": {},
   "outputs": [
    {
     "name": "stderr",
     "output_type": "stream",
     "text": [
      "/var/folders/_v/vw5sh5fd4lv4x0cnk8cxz__w0000gn/T/ipykernel_82435/3602395813.py:110: RuntimeWarning: divide by zero encountered in divide\n",
      "  var_weight = 1 / Nobs_var\n",
      "/var/folders/_v/vw5sh5fd4lv4x0cnk8cxz__w0000gn/T/ipykernel_82435/3602395813.py:113: RuntimeWarning: divide by zero encountered in divide\n",
      "  mean_weight = 1 / Nobs\n"
     ]
    }
   ],
   "source": [
    "noccs_init = np.zeros( Nsites)\n",
    "corrs_init = np.zeros(Nsites)\n",
    "\n",
    "counts_1 = job_up_init.result().get_counts()\n",
    "counts_2 = job_down_init.result().get_counts()\n",
    "total_counts = counts_1\n",
    "total_counts.update(counts_2)\n",
    "\n",
    "nocc = nocc_from_counts(total_counts, Nsites)\n",
    "corr, _, _ = squeezed_spin_corr_from_counts(total_counts, Nsites)"
   ]
  },
  {
   "cell_type": "code",
   "execution_count": 11,
   "metadata": {},
   "outputs": [
    {
     "data": {
      "text/plain": [
       "Text(0.5, 0, 'site index')"
      ]
     },
     "execution_count": 11,
     "metadata": {},
     "output_type": "execute_result"
    },
    {
     "data": {
      "image/png": "[encoded data removed]",
      "text/plain": [
       "<Figure size 640x480 with 1 Axes>"
      ]
     },
     "metadata": {},
     "output_type": "display_data"
    }
   ],
   "source": [
    "f, ax = plt.subplots()\n",
    "\n",
    "ax.plot(np.arange(Nsites) - dmax, nocc, \"bo\", label=\"nocc\")\n",
    "ax.plot(np.arange(Nsites) - dmax, corr, \"ro\", label=\"corr\", alpha = 0.5)\n",
    "ax.legend()\n",
    "ax.set_xlabel(\"site index\")"
   ]
  },
  {
   "cell_type": "markdown",
   "metadata": {},
   "source": [
    "As we can see, we have created a state with alternating spins. However, in the middle we have created a hole. This is the state that we will use as the initial state for the propagation."
   ]
  },
  {
   "cell_type": "markdown",
   "metadata": {},
   "source": [
    "## Time evolution\n",
    "\n",
    "To directly simulate the experiment, we run a list of circuits with different evolution times on the simulator backend. "
   ]
  },
  {
   "cell_type": "code",
   "execution_count": 12,
   "metadata": {},
   "outputs": [],
   "source": [
    "# the experimental parameters\n",
    "J = 2 * np.pi * 250  # hopping parameter in units of hbar\n",
    "U = 15 * J  # interaction parameter\n",
    "\n",
    "Ntimes = 8\n",
    "tmax = 1.5\n",
    "times = np.linspace(0, tmax, Ntimes) * 1e-3"
   ]
  },
  {
   "cell_type": "code",
   "execution_count": 13,
   "metadata": {},
   "outputs": [],
   "source": [
    "Nshots = 500\n",
    "# create list of circuits with interaction\n",
    "circuits_1 = [qc_1.bind_parameters({hop_param: J * t, int_param: U * t}) for t in times]\n",
    "# measure the observable from simulated shots\n",
    "jobs_1 = backend.run(circuits_1, shots=Nshots, num_species=2)\n",
    "\n",
    "# create list of circuits with interaction\n",
    "circuits_2 = [qc_2.bind_parameters({hop_param_down: J * t, int_param_down: U * t}) for t in times]\n",
    "# measure the observable from simulated shots\n",
    "jobs_2 = backend.run(circuits_2, shots=Nshots, num_species=2)"
   ]
  },
  {
   "cell_type": "markdown",
   "metadata": {},
   "source": [
    "Put it together"
   ]
  },
  {
   "cell_type": "code",
   "execution_count": 15,
   "metadata": {},
   "outputs": [
    {
     "name": "stdout",
     "output_type": "stream",
     "text": [
      "Duration for of the two jobs: 54.99120879173279 seconds\n"
     ]
    },
    {
     "name": "stderr",
     "output_type": "stream",
     "text": [
      "/var/folders/_v/vw5sh5fd4lv4x0cnk8cxz__w0000gn/T/ipykernel_82435/3602395813.py:110: RuntimeWarning: divide by zero encountered in divide\n",
      "  var_weight = 1 / Nobs_var\n",
      "/var/folders/_v/vw5sh5fd4lv4x0cnk8cxz__w0000gn/T/ipykernel_82435/3602395813.py:113: RuntimeWarning: divide by zero encountered in divide\n",
      "  mean_weight = 1 / Nobs\n"
     ]
    }
   ],
   "source": [
    "noccs = np.zeros((Ntimes, Nsites))\n",
    "corrs = np.zeros((Ntimes, Nsites))\n",
    "\n",
    "start_time = time.time()\n",
    "count_list_1 = jobs_1.result().get_counts()\n",
    "count_list_2 = jobs_2.result().get_counts()\n",
    "end_time = time.time()\n",
    "print(f\"Duration for of the two jobs: {end_time - start_time} seconds\")\n",
    "\n",
    "for ii in range(Ntimes):\n",
    "    counts_1 = count_list_1[ii]\n",
    "    counts_2 = count_list_2[ii]\n",
    "\n",
    "    total_counts = counts_1\n",
    "    total_counts.update(counts_2)\n",
    "\n",
    "    nocc = nocc_from_counts(total_counts, Nsites)\n",
    "    corr, _,_ = squeezed_spin_corr_from_counts(total_counts, Nsites)\n",
    "\n",
    "    noccs[ii, :] = nocc\n",
    "    corrs[ii, :] = corr"
   ]
  },
  {
   "cell_type": "markdown",
   "metadata": {},
   "source": [
    "And we can directly visualize them."
   ]
  },
  {
   "cell_type": "code",
   "execution_count": 15,
   "metadata": {},
   "outputs": [
    {
     "data": {
      "text/plain": [
       "Text(0.5, 1.0, 'Density')"
      ]
     },
     "execution_count": 15,
     "metadata": {},
     "output_type": "execute_result"
    },
    {
     "data": {
      "image/png": "[encoded data removed]",
      "text/plain": [
       "<Figure size 640x480 with 2 Axes>"
      ]
     },
     "metadata": {},
     "output_type": "display_data"
    }
   ],
   "source": [
    "f, [ax1, ax2] = plt.subplots(1, 2, sharey=True)\n",
    "# color plot of the occupation in a heatmap\n",
    "velo = J\n",
    "ax1.pcolor(np.arange(Nsites) - dmax, times * 1e3, corrs, cmap=\"Reds\")\n",
    "\n",
    "ax1.set_xlabel(\"time [ms]\")\n",
    "ax1.set_xlabel(\"site index\")\n",
    "ax1.set_title(\"Spin\")\n",
    "\n",
    "ax2.pcolor(np.arange(Nsites) - dmax, times * 1e3, noccs, cmap=\"Blues\")\n",
    "ax2.set_xlabel(\"site index\")\n",
    "ax2.set_title(\"Density\")"
   ]
  },
  {
   "cell_type": "markdown",
   "metadata": {},
   "source": [
    "We can nicely observe a much slower spread in the spin than in the charge density. This is the spin-charge separation. Now it is time to quantify the difference in the speed of the spread"
   ]
  },
  {
   "cell_type": "code",
   "execution_count": 16,
   "metadata": {},
   "outputs": [],
   "source": [
    "stds_spin = np.zeros(Ntimes)\n",
    "for ii, corr in enumerate(corrs):\n",
    "    mass_func = corr + 1\n",
    "    mean_position = np.average(np.arange(len(mass_func)), weights=mass_func)\n",
    "    # Calculate the standard deviation of the position\n",
    "    std_position = np.sqrt(\n",
    "        np.average((np.arange(len(mass_func)) - mean_position) ** 2, weights=mass_func)\n",
    "    )\n",
    "    stds_spin[ii] = std_position\n",
    "\n",
    "stds_density = np.zeros(Ntimes)\n",
    "for ii, nocc in enumerate(noccs):\n",
    "    # print(nocc)\n",
    "    mass_func = 1 - nocc\n",
    "    mean_position = np.average(np.arange(len(mass_func)), weights=mass_func)\n",
    "    # Calculate the standard deviation of the position\n",
    "    std_position = np.sqrt(\n",
    "        np.average((np.arange(len(mass_func)) - mean_position) ** 2, weights=mass_func)\n",
    "    )\n",
    "    stds_density[ii] = std_position"
   ]
  },
  {
   "cell_type": "code",
   "execution_count": 17,
   "metadata": {},
   "outputs": [
    {
     "data": {
      "text/plain": [
       "<matplotlib.legend.Legend at 0x16a0d2140>"
      ]
     },
     "execution_count": 17,
     "metadata": {},
     "output_type": "execute_result"
    },
    {
     "data": {
      "image/png": "[encoded data removed]",
      "text/plain": [
       "<Figure size 640x480 with 1 Axes>"
      ]
     },
     "metadata": {},
     "output_type": "display_data"
    }
   ],
   "source": [
    "f, ax = plt.subplots()\n",
    "ax.plot(times * 1e3, stds_spin, \"ro\", label=\"spin\")\n",
    "ax.plot(times * 1e3, stds_density, \"bo\", label=\"density\")\n",
    "ax.set_xlabel(\"time [ms]\")\n",
    "ax.set_ylabel(\"standard deviation\")\n",
    "ax.legend()"
   ]
  },
  {
   "cell_type": "markdown",
   "metadata": {},
   "source": [
    "This is exactly the expected behavior for the decoupling of spin and density. The density spreads much faster than the spin. This is the spin-charge separation."
   ]
  },
  {
   "cell_type": "markdown",
   "metadata": {},
   "source": [
    "# The ffsim backend\n",
    "\n",
    "As we can see the time of the simulation scales exponentially with the number of sites. To increase the possible we can also run the simulations with the `ffsim` backend, which is exactly optimized for such tasks."
   ]
  },
  {
   "cell_type": "code",
   "execution_count": 18,
   "metadata": {},
   "outputs": [
    {
     "name": "stdout",
     "output_type": "stream",
     "text": [
      "Duration for of the two jobs: 62.67665886878967 seconds\n"
     ]
    }
   ],
   "source": [
    "# prepare the jobs\n",
    "jobs_1_ffsim = backend_ffsim.run(circuits_1, shots=Nshots, num_species=2)\n",
    "jobs_2_ffsim = backend_ffsim.run(circuits_2, shots=Nshots, num_species=2)\n",
    "\n",
    "# run them and time it\n",
    "start_time = time.time()\n",
    "count_list_1 = jobs_1_ffsim.result().get_counts()\n",
    "count_list_2 = jobs_2_ffsim.result().get_counts()\n",
    "end_time = time.time()\n",
    "print(f\"Duration for of the two jobs: {end_time - start_time} seconds\")\n"
   ]
  },
  {
   "cell_type": "markdown",
   "metadata": {},
   "source": [
    "We observe here that the code might not run quite as fast as we might like it. This is because the `ffsim` backend is optimized for trotterized approaches. Let us therefore try it out. Most important is to find time steps that are small compared to the large energy scale in the system, which is $U$ in this case. So let us run one long time evolution in two different ways:\n",
    "\n",
    "1. With the full Fermi Hubbard Hamiltonian applied as a single gate.\n",
    "2. With the trotterized version of the Fermi Hubbard Hamiltonian."
   ]
  },
  {
   "cell_type": "code",
   "execution_count": 41,
   "metadata": {},
   "outputs": [],
   "source": [
    "hop_long = Parameter(\"hop_long\")\n",
    "int_long = Parameter(\"int_long\")\n",
    "# initialize one spin-up and one spin-down atom in the left tweezer\n",
    "qc_long = backend_ffsim.initialize_circuit(init_state_1)\n",
    "\n",
    "# apply a global Fermi-Hubbard gate with interaction\n",
    "qc_long.fhubbard(\n",
    "    j=hop_long * np.ones(Nsites - 1), u=int_long, mu=np.zeros(Nsites), modes=range(2 * Nsites)\n",
    ")\n",
    "qc_long.measure_all()"
   ]
  },
  {
   "cell_type": "code",
   "execution_count": 43,
   "metadata": {},
   "outputs": [
    {
     "name": "stdout",
     "output_type": "stream",
     "text": [
      "Duration for of the two jobs: 1.97 seconds\n"
     ]
    }
   ],
   "source": [
    "tmax = 1 / U\n",
    "\n",
    "circuit_long = qc_long.bind_parameters({hop_long: J * tmax, int_long: U * tmax})\n",
    "job_long = backend.run(circuit_long, shots=5, num_species=2)\n",
    "start_time = time.time()\n",
    "count_long = job_long.result().get_counts()\n",
    "end_time = time.time()\n",
    "print(f\"Duration for of the two jobs: {end_time - start_time:.2f} seconds\")"
   ]
  },
  {
   "cell_type": "markdown",
   "metadata": {},
   "source": [
    "And now we will trotterize the circuit to make it more efficient."
   ]
  },
  {
   "cell_type": "code",
   "execution_count": 44,
   "metadata": {},
   "outputs": [
    {
     "name": "stdout",
     "output_type": "stream",
     "text": [
      "time step = 0.01 ms\n",
      "Number of trotter steps: 4\n"
     ]
    }
   ],
   "source": [
    "time_step = 1/(4*U)\n",
    "print(f\"time step = {time_step*1e3:.2f} ms\")\n",
    "\n",
    "Ntrott = int(tmax / time_step)\n",
    "print(f\"Number of trotter steps: {Ntrott}\")"
   ]
  },
  {
   "cell_type": "code",
   "execution_count": 46,
   "metadata": {},
   "outputs": [],
   "source": [
    "trott_hop = Parameter(\"trott_hop\")\n",
    "trott_int = Parameter(\"trott_int\")\n",
    "# initialize one spin-up and one spin-down atom in the left tweezer\n",
    "qc_trott = backend_ffsim.initialize_circuit(init_state_1)\n",
    "\n",
    "for ii in range(Ntrott):\n",
    "    # apply a global Fermi-Hubbard gate with interaction\n",
    "    qc_trott.fhop(\n",
    "        j=trott_hop * np.ones(Nsites - 1),\n",
    "        modes=range(2 * Nsites),\n",
    "    )\n",
    "    qc_trott.fint(u=trott_int, modes=range(2 * Nsites))\n",
    "# apply a global Fermi-Hubbard gate with interaction\n",
    "qc_trott.measure_all()"
   ]
  },
  {
   "cell_type": "code",
   "execution_count": 50,
   "metadata": {},
   "outputs": [
    {
     "name": "stdout",
     "output_type": "stream",
     "text": [
      "Duration for of the two jobs: 0.52 ms\n"
     ]
    }
   ],
   "source": [
    "circuit_trott = qc_trott.bind_parameters({trott_hop: J * time_step, trott_int: U * time_step})\n",
    "job_trott = backend_ffsim.run(circuit_trott, shots=5, num_species=2)\n",
    "start_time = time.time()\n",
    "count_long = job_long.result().get_counts()\n",
    "end_time = time.time()\n",
    "print(f\"Duration for of the two jobs: {(end_time - start_time)*1e3:.2f} ms\")"
   ]
  },
  {
   "cell_type": "markdown",
   "metadata": {},
   "source": [
    "So as you can see nicely here the trotterized version is much faster and will enable us to simulate much larger systems in the future."
   ]
  },
  {
   "cell_type": "markdown",
   "metadata": {},
   "source": [
    "# Conclusion\n",
    "\n",
    "In this notebook we have seen how to simulate the dynamics of a fermionic system in a 1D lattice. We have seen how to initialize the system in an anti-ferromagnetic configuration and how to measure the spin and density dynamics. We have seen how the spin and density dynamics decouple and how this can be quantified.\n",
    "\n",
    "Finally, we have seen that the `ffsim` backend is much faster for trotterized approaches and how it might potentially be used for larger systems in the future."
   ]
  },
  {
   "cell_type": "markdown",
   "metadata": {},
   "source": [
    "## References\n",
    "\n",
    "[1] [Jayadev Vijayan et al.](https://arxiv.org/abs/1905.13638) *Time-Resolved Observation of Spin-Charge Deconfinement in Fermionic Hubbard Chains*. Science 367, 186 (2020)."
   ]
  },
  {
   "cell_type": "code",
   "execution_count": null,
   "metadata": {},
   "outputs": [
    {
     "data": {
      "text/html": [
       "<h3>Version Information</h3><table><tr><th>Qiskit Software</th><th>Version</th></tr><tr><td><code>qiskit-terra</code></td><td>0.24.0</td></tr><tr><td><code>qiskit-aer</code></td><td>0.12.2</td></tr><tr><td><code>qiskit-nature</code></td><td>0.6.2</td></tr><tr><th>System information</th></tr><tr><td>Python version</td><td>3.10.0</td></tr><tr><td>Python compiler</td><td>Clang 12.0.0 </td></tr><tr><td>Python build</td><td>default, Mar  3 2022 03:54:28</td></tr><tr><td>OS</td><td>Darwin</td></tr><tr><td>CPUs</td><td>8</td></tr><tr><td>Memory (Gb)</td><td>8.0</td></tr><tr><td colspan='2'>Fri Jan 12 11:17:23 2024 CET</td></tr></table>"
      ],
      "text/plain": [
       "<IPython.core.display.HTML object>"
      ]
     },
     "metadata": {},
     "output_type": "display_data"
    }
   ],
   "source": [
    "import qiskit.tools.jupyter\n",
    "\n",
    "%qiskit_version_table"
   ]
  }
 ],
 "metadata": {
  "kernelspec": {
   "display_name": "Python 3 (ipykernel)",
   "language": "python",
   "name": "python3"
  },
  "language_info": {
   "codemirror_mode": {
    "name": "ipython",
    "version": 3
   },
   "file_extension": ".py",
   "mimetype": "text/x-python",
   "name": "python",
   "nbconvert_exporter": "python",
   "pygments_lexer": "ipython3",
   "version": "3.10.0"
  }
 },
 "nbformat": 4,
 "nbformat_minor": 4
}
